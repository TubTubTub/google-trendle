{
 "cells": [
  {
   "cell_type": "code",
   "execution_count": 30,
   "metadata": {},
   "outputs": [],
   "source": [
    "import requests\n",
    "data = requests.get('https://serpapi.com/search.json?tz=0&date=today%203-m&engine=google_trends&q=coffee&data_type=TIMESERIES&api_key=897f874ac09b55c72c8ef52f7fc8a2f3f21c4126e18af706bcb29c24baed33ad')"
   ]
  },
  {
   "cell_type": "code",
   "execution_count": 31,
   "metadata": {},
   "outputs": [
    {
     "name": "stdout",
     "output_type": "stream",
     "text": [
      "{'timeline_data': [{'date': 'Jan 2, 2025', 'timestamp': '1735776000', 'values': [{'query': 'coffee', 'value': '81', 'extracted_value': 81}]}, {'date': 'Jan 3, 2025', 'timestamp': '1735862400', 'values': [{'query': 'coffee', 'value': '84', 'extracted_value': 84}]}, {'date': 'Jan 4, 2025', 'timestamp': '1735948800', 'values': [{'query': 'coffee', 'value': '94', 'extracted_value': 94}]}, {'date': 'Jan 5, 2025', 'timestamp': '1736035200', 'values': [{'query': 'coffee', 'value': '90', 'extracted_value': 90}]}, {'date': 'Jan 6, 2025', 'timestamp': '1736121600', 'values': [{'query': 'coffee', 'value': '79', 'extracted_value': 79}]}, {'date': 'Jan 7, 2025', 'timestamp': '1736208000', 'values': [{'query': 'coffee', 'value': '82', 'extracted_value': 82}]}, {'date': 'Jan 8, 2025', 'timestamp': '1736294400', 'values': [{'query': 'coffee', 'value': '80', 'extracted_value': 80}]}, {'date': 'Jan 9, 2025', 'timestamp': '1736380800', 'values': [{'query': 'coffee', 'value': '76', 'extracted_value': 76}]}, {'date': 'Jan 10, 2025', 'timestamp': '1736467200', 'values': [{'query': 'coffee', 'value': '79', 'extracted_value': 79}]}, {'date': 'Jan 11, 2025', 'timestamp': '1736553600', 'values': [{'query': 'coffee', 'value': '92', 'extracted_value': 92}]}, {'date': 'Jan 12, 2025', 'timestamp': '1736640000', 'values': [{'query': 'coffee', 'value': '93', 'extracted_value': 93}]}, {'date': 'Jan 13, 2025', 'timestamp': '1736726400', 'values': [{'query': 'coffee', 'value': '79', 'extracted_value': 79}]}, {'date': 'Jan 14, 2025', 'timestamp': '1736812800', 'values': [{'query': 'coffee', 'value': '76', 'extracted_value': 76}]}, {'date': 'Jan 15, 2025', 'timestamp': '1736899200', 'values': [{'query': 'coffee', 'value': '79', 'extracted_value': 79}]}, {'date': 'Jan 16, 2025', 'timestamp': '1736985600', 'values': [{'query': 'coffee', 'value': '79', 'extracted_value': 79}]}, {'date': 'Jan 17, 2025', 'timestamp': '1737072000', 'values': [{'query': 'coffee', 'value': '86', 'extracted_value': 86}]}, {'date': 'Jan 18, 2025', 'timestamp': '1737158400', 'values': [{'query': 'coffee', 'value': '100', 'extracted_value': 100}]}, {'date': 'Jan 19, 2025', 'timestamp': '1737244800', 'values': [{'query': 'coffee', 'value': '94', 'extracted_value': 94}]}, {'date': 'Jan 20, 2025', 'timestamp': '1737331200', 'values': [{'query': 'coffee', 'value': '80', 'extracted_value': 80}]}, {'date': 'Jan 21, 2025', 'timestamp': '1737417600', 'values': [{'query': 'coffee', 'value': '74', 'extracted_value': 74}]}, {'date': 'Jan 22, 2025', 'timestamp': '1737504000', 'values': [{'query': 'coffee', 'value': '80', 'extracted_value': 80}]}, {'date': 'Jan 23, 2025', 'timestamp': '1737590400', 'values': [{'query': 'coffee', 'value': '79', 'extracted_value': 79}]}, {'date': 'Jan 24, 2025', 'timestamp': '1737676800', 'values': [{'query': 'coffee', 'value': '80', 'extracted_value': 80}]}, {'date': 'Jan 25, 2025', 'timestamp': '1737763200', 'values': [{'query': 'coffee', 'value': '93', 'extracted_value': 93}]}, {'date': 'Jan 26, 2025', 'timestamp': '1737849600', 'values': [{'query': 'coffee', 'value': '96', 'extracted_value': 96}]}, {'date': 'Jan 27, 2025', 'timestamp': '1737936000', 'values': [{'query': 'coffee', 'value': '83', 'extracted_value': 83}]}, {'date': 'Jan 28, 2025', 'timestamp': '1738022400', 'values': [{'query': 'coffee', 'value': '83', 'extracted_value': 83}]}, {'date': 'Jan 29, 2025', 'timestamp': '1738108800', 'values': [{'query': 'coffee', 'value': '77', 'extracted_value': 77}]}, {'date': 'Jan 30, 2025', 'timestamp': '1738195200', 'values': [{'query': 'coffee', 'value': '77', 'extracted_value': 77}]}, {'date': 'Jan 31, 2025', 'timestamp': '1738281600', 'values': [{'query': 'coffee', 'value': '78', 'extracted_value': 78}]}, {'date': 'Feb 1, 2025', 'timestamp': '1738368000', 'values': [{'query': 'coffee', 'value': '92', 'extracted_value': 92}]}, {'date': 'Feb 2, 2025', 'timestamp': '1738454400', 'values': [{'query': 'coffee', 'value': '96', 'extracted_value': 96}]}, {'date': 'Feb 3, 2025', 'timestamp': '1738540800', 'values': [{'query': 'coffee', 'value': '76', 'extracted_value': 76}]}, {'date': 'Feb 4, 2025', 'timestamp': '1738627200', 'values': [{'query': 'coffee', 'value': '78', 'extracted_value': 78}]}, {'date': 'Feb 5, 2025', 'timestamp': '1738713600', 'values': [{'query': 'coffee', 'value': '77', 'extracted_value': 77}]}, {'date': 'Feb 6, 2025', 'timestamp': '1738800000', 'values': [{'query': 'coffee', 'value': '77', 'extracted_value': 77}]}, {'date': 'Feb 7, 2025', 'timestamp': '1738886400', 'values': [{'query': 'coffee', 'value': '77', 'extracted_value': 77}]}, {'date': 'Feb 8, 2025', 'timestamp': '1738972800', 'values': [{'query': 'coffee', 'value': '92', 'extracted_value': 92}]}, {'date': 'Feb 9, 2025', 'timestamp': '1739059200', 'values': [{'query': 'coffee', 'value': '90', 'extracted_value': 90}]}, {'date': 'Feb 10, 2025', 'timestamp': '1739145600', 'values': [{'query': 'coffee', 'value': '82', 'extracted_value': 82}]}, {'date': 'Feb 11, 2025', 'timestamp': '1739232000', 'values': [{'query': 'coffee', 'value': '75', 'extracted_value': 75}]}, {'date': 'Feb 12, 2025', 'timestamp': '1739318400', 'values': [{'query': 'coffee', 'value': '79', 'extracted_value': 79}]}, {'date': 'Feb 13, 2025', 'timestamp': '1739404800', 'values': [{'query': 'coffee', 'value': '75', 'extracted_value': 75}]}, {'date': 'Feb 14, 2025', 'timestamp': '1739491200', 'values': [{'query': 'coffee', 'value': '77', 'extracted_value': 77}]}, {'date': 'Feb 15, 2025', 'timestamp': '1739577600', 'values': [{'query': 'coffee', 'value': '94', 'extracted_value': 94}]}, {'date': 'Feb 16, 2025', 'timestamp': '1739664000', 'values': [{'query': 'coffee', 'value': '91', 'extracted_value': 91}]}, {'date': 'Feb 17, 2025', 'timestamp': '1739750400', 'values': [{'query': 'coffee', 'value': '77', 'extracted_value': 77}]}, {'date': 'Feb 18, 2025', 'timestamp': '1739836800', 'values': [{'query': 'coffee', 'value': '80', 'extracted_value': 80}]}, {'date': 'Feb 19, 2025', 'timestamp': '1739923200', 'values': [{'query': 'coffee', 'value': '78', 'extracted_value': 78}]}, {'date': 'Feb 20, 2025', 'timestamp': '1740009600', 'values': [{'query': 'coffee', 'value': '78', 'extracted_value': 78}]}, {'date': 'Feb 21, 2025', 'timestamp': '1740096000', 'values': [{'query': 'coffee', 'value': '81', 'extracted_value': 81}]}, {'date': 'Feb 22, 2025', 'timestamp': '1740182400', 'values': [{'query': 'coffee', 'value': '96', 'extracted_value': 96}]}, {'date': 'Feb 23, 2025', 'timestamp': '1740268800', 'values': [{'query': 'coffee', 'value': '93', 'extracted_value': 93}]}, {'date': 'Feb 24, 2025', 'timestamp': '1740355200', 'values': [{'query': 'coffee', 'value': '79', 'extracted_value': 79}]}, {'date': 'Feb 25, 2025', 'timestamp': '1740441600', 'values': [{'query': 'coffee', 'value': '80', 'extracted_value': 80}]}, {'date': 'Feb 26, 2025', 'timestamp': '1740528000', 'values': [{'query': 'coffee', 'value': '81', 'extracted_value': 81}]}, {'date': 'Feb 27, 2025', 'timestamp': '1740614400', 'values': [{'query': 'coffee', 'value': '81', 'extracted_value': 81}]}, {'date': 'Feb 28, 2025', 'timestamp': '1740700800', 'values': [{'query': 'coffee', 'value': '81', 'extracted_value': 81}]}, {'date': 'Mar 1, 2025', 'timestamp': '1740787200', 'values': [{'query': 'coffee', 'value': '91', 'extracted_value': 91}]}, {'date': 'Mar 2, 2025', 'timestamp': '1740873600', 'values': [{'query': 'coffee', 'value': '95', 'extracted_value': 95}]}, {'date': 'Mar 3, 2025', 'timestamp': '1740960000', 'values': [{'query': 'coffee', 'value': '74', 'extracted_value': 74}]}, {'date': 'Mar 4, 2025', 'timestamp': '1741046400', 'values': [{'query': 'coffee', 'value': '76', 'extracted_value': 76}]}, {'date': 'Mar 5, 2025', 'timestamp': '1741132800', 'values': [{'query': 'coffee', 'value': '75', 'extracted_value': 75}]}, {'date': 'Mar 6, 2025', 'timestamp': '1741219200', 'values': [{'query': 'coffee', 'value': '75', 'extracted_value': 75}]}, {'date': 'Mar 7, 2025', 'timestamp': '1741305600', 'values': [{'query': 'coffee', 'value': '81', 'extracted_value': 81}]}, {'date': 'Mar 8, 2025', 'timestamp': '1741392000', 'values': [{'query': 'coffee', 'value': '97', 'extracted_value': 97}]}, {'date': 'Mar 9, 2025', 'timestamp': '1741478400', 'values': [{'query': 'coffee', 'value': '91', 'extracted_value': 91}]}, {'date': 'Mar 10, 2025', 'timestamp': '1741564800', 'values': [{'query': 'coffee', 'value': '82', 'extracted_value': 82}]}, {'date': 'Mar 11, 2025', 'timestamp': '1741651200', 'values': [{'query': 'coffee', 'value': '74', 'extracted_value': 74}]}, {'date': 'Mar 12, 2025', 'timestamp': '1741737600', 'values': [{'query': 'coffee', 'value': '78', 'extracted_value': 78}]}, {'date': 'Mar 13, 2025', 'timestamp': '1741824000', 'values': [{'query': 'coffee', 'value': '80', 'extracted_value': 80}]}, {'date': 'Mar 14, 2025', 'timestamp': '1741910400', 'values': [{'query': 'coffee', 'value': '80', 'extracted_value': 80}]}, {'date': 'Mar 15, 2025', 'timestamp': '1741996800', 'values': [{'query': 'coffee', 'value': '90', 'extracted_value': 90}]}, {'date': 'Mar 16, 2025', 'timestamp': '1742083200', 'values': [{'query': 'coffee', 'value': '98', 'extracted_value': 98}]}, {'date': 'Mar 17, 2025', 'timestamp': '1742169600', 'values': [{'query': 'coffee', 'value': '69', 'extracted_value': 69}]}, {'date': 'Mar 18, 2025', 'timestamp': '1742256000', 'values': [{'query': 'coffee', 'value': '80', 'extracted_value': 80}]}, {'date': 'Mar 19, 2025', 'timestamp': '1742342400', 'values': [{'query': 'coffee', 'value': '76', 'extracted_value': 76}]}, {'date': 'Mar 20, 2025', 'timestamp': '1742428800', 'values': [{'query': 'coffee', 'value': '77', 'extracted_value': 77}]}, {'date': 'Mar 21, 2025', 'timestamp': '1742515200', 'values': [{'query': 'coffee', 'value': '79', 'extracted_value': 79}]}, {'date': 'Mar 22, 2025', 'timestamp': '1742601600', 'values': [{'query': 'coffee', 'value': '99', 'extracted_value': 99}]}, {'date': 'Mar 23, 2025', 'timestamp': '1742688000', 'values': [{'query': 'coffee', 'value': '91', 'extracted_value': 91}]}, {'date': 'Mar 24, 2025', 'timestamp': '1742774400', 'values': [{'query': 'coffee', 'value': '76', 'extracted_value': 76}]}, {'date': 'Mar 25, 2025', 'timestamp': '1742860800', 'values': [{'query': 'coffee', 'value': '76', 'extracted_value': 76}]}, {'date': 'Mar 26, 2025', 'timestamp': '1742947200', 'values': [{'query': 'coffee', 'value': '77', 'extracted_value': 77}]}, {'date': 'Mar 27, 2025', 'timestamp': '1743033600', 'values': [{'query': 'coffee', 'value': '77', 'extracted_value': 77}]}, {'date': 'Mar 28, 2025', 'timestamp': '1743120000', 'values': [{'query': 'coffee', 'value': '80', 'extracted_value': 80}]}, {'date': 'Mar 29, 2025', 'timestamp': '1743206400', 'values': [{'query': 'coffee', 'value': '92', 'extracted_value': 92}]}, {'date': 'Mar 30, 2025', 'timestamp': '1743292800', 'values': [{'query': 'coffee', 'value': '96', 'extracted_value': 96}]}, {'date': 'Mar 31, 2025', 'timestamp': '1743379200', 'values': [{'query': 'coffee', 'value': '79', 'extracted_value': 79}]}, {'date': 'Apr 1, 2025', 'timestamp': '1743465600', 'values': [{'query': 'coffee', 'value': '78', 'extracted_value': 78}]}, {'date': 'Apr 2, 2025', 'timestamp': '1743552000', 'partial_data': True, 'values': [{'query': 'coffee', 'value': '78', 'extracted_value': 78}]}]}\n"
     ]
    }
   ],
   "source": [
    "data = data.json()['interest_over_time']\n",
    "print(data)"
   ]
  },
  {
   "cell_type": "code",
   "execution_count": 32,
   "metadata": {},
   "outputs": [
    {
     "name": "stdout",
     "output_type": "stream",
     "text": [
      "[{'date': 'Jan 2, 2025', 'timestamp': '1735776000', 'values': [{'query': 'coffee', 'value': '81', 'extracted_value': 81}]}, {'date': 'Jan 3, 2025', 'timestamp': '1735862400', 'values': [{'query': 'coffee', 'value': '84', 'extracted_value': 84}]}, {'date': 'Jan 4, 2025', 'timestamp': '1735948800', 'values': [{'query': 'coffee', 'value': '94', 'extracted_value': 94}]}, {'date': 'Jan 5, 2025', 'timestamp': '1736035200', 'values': [{'query': 'coffee', 'value': '90', 'extracted_value': 90}]}, {'date': 'Jan 6, 2025', 'timestamp': '1736121600', 'values': [{'query': 'coffee', 'value': '79', 'extracted_value': 79}]}, {'date': 'Jan 7, 2025', 'timestamp': '1736208000', 'values': [{'query': 'coffee', 'value': '82', 'extracted_value': 82}]}, {'date': 'Jan 8, 2025', 'timestamp': '1736294400', 'values': [{'query': 'coffee', 'value': '80', 'extracted_value': 80}]}, {'date': 'Jan 9, 2025', 'timestamp': '1736380800', 'values': [{'query': 'coffee', 'value': '76', 'extracted_value': 76}]}, {'date': 'Jan 10, 2025', 'timestamp': '1736467200', 'values': [{'query': 'coffee', 'value': '79', 'extracted_value': 79}]}, {'date': 'Jan 11, 2025', 'timestamp': '1736553600', 'values': [{'query': 'coffee', 'value': '92', 'extracted_value': 92}]}, {'date': 'Jan 12, 2025', 'timestamp': '1736640000', 'values': [{'query': 'coffee', 'value': '93', 'extracted_value': 93}]}, {'date': 'Jan 13, 2025', 'timestamp': '1736726400', 'values': [{'query': 'coffee', 'value': '79', 'extracted_value': 79}]}, {'date': 'Jan 14, 2025', 'timestamp': '1736812800', 'values': [{'query': 'coffee', 'value': '76', 'extracted_value': 76}]}, {'date': 'Jan 15, 2025', 'timestamp': '1736899200', 'values': [{'query': 'coffee', 'value': '79', 'extracted_value': 79}]}, {'date': 'Jan 16, 2025', 'timestamp': '1736985600', 'values': [{'query': 'coffee', 'value': '79', 'extracted_value': 79}]}, {'date': 'Jan 17, 2025', 'timestamp': '1737072000', 'values': [{'query': 'coffee', 'value': '86', 'extracted_value': 86}]}, {'date': 'Jan 18, 2025', 'timestamp': '1737158400', 'values': [{'query': 'coffee', 'value': '100', 'extracted_value': 100}]}, {'date': 'Jan 19, 2025', 'timestamp': '1737244800', 'values': [{'query': 'coffee', 'value': '94', 'extracted_value': 94}]}, {'date': 'Jan 20, 2025', 'timestamp': '1737331200', 'values': [{'query': 'coffee', 'value': '80', 'extracted_value': 80}]}, {'date': 'Jan 21, 2025', 'timestamp': '1737417600', 'values': [{'query': 'coffee', 'value': '74', 'extracted_value': 74}]}, {'date': 'Jan 22, 2025', 'timestamp': '1737504000', 'values': [{'query': 'coffee', 'value': '80', 'extracted_value': 80}]}, {'date': 'Jan 23, 2025', 'timestamp': '1737590400', 'values': [{'query': 'coffee', 'value': '79', 'extracted_value': 79}]}, {'date': 'Jan 24, 2025', 'timestamp': '1737676800', 'values': [{'query': 'coffee', 'value': '80', 'extracted_value': 80}]}, {'date': 'Jan 25, 2025', 'timestamp': '1737763200', 'values': [{'query': 'coffee', 'value': '93', 'extracted_value': 93}]}, {'date': 'Jan 26, 2025', 'timestamp': '1737849600', 'values': [{'query': 'coffee', 'value': '96', 'extracted_value': 96}]}, {'date': 'Jan 27, 2025', 'timestamp': '1737936000', 'values': [{'query': 'coffee', 'value': '83', 'extracted_value': 83}]}, {'date': 'Jan 28, 2025', 'timestamp': '1738022400', 'values': [{'query': 'coffee', 'value': '83', 'extracted_value': 83}]}, {'date': 'Jan 29, 2025', 'timestamp': '1738108800', 'values': [{'query': 'coffee', 'value': '77', 'extracted_value': 77}]}, {'date': 'Jan 30, 2025', 'timestamp': '1738195200', 'values': [{'query': 'coffee', 'value': '77', 'extracted_value': 77}]}, {'date': 'Jan 31, 2025', 'timestamp': '1738281600', 'values': [{'query': 'coffee', 'value': '78', 'extracted_value': 78}]}, {'date': 'Feb 1, 2025', 'timestamp': '1738368000', 'values': [{'query': 'coffee', 'value': '92', 'extracted_value': 92}]}, {'date': 'Feb 2, 2025', 'timestamp': '1738454400', 'values': [{'query': 'coffee', 'value': '96', 'extracted_value': 96}]}, {'date': 'Feb 3, 2025', 'timestamp': '1738540800', 'values': [{'query': 'coffee', 'value': '76', 'extracted_value': 76}]}, {'date': 'Feb 4, 2025', 'timestamp': '1738627200', 'values': [{'query': 'coffee', 'value': '78', 'extracted_value': 78}]}, {'date': 'Feb 5, 2025', 'timestamp': '1738713600', 'values': [{'query': 'coffee', 'value': '77', 'extracted_value': 77}]}, {'date': 'Feb 6, 2025', 'timestamp': '1738800000', 'values': [{'query': 'coffee', 'value': '77', 'extracted_value': 77}]}, {'date': 'Feb 7, 2025', 'timestamp': '1738886400', 'values': [{'query': 'coffee', 'value': '77', 'extracted_value': 77}]}, {'date': 'Feb 8, 2025', 'timestamp': '1738972800', 'values': [{'query': 'coffee', 'value': '92', 'extracted_value': 92}]}, {'date': 'Feb 9, 2025', 'timestamp': '1739059200', 'values': [{'query': 'coffee', 'value': '90', 'extracted_value': 90}]}, {'date': 'Feb 10, 2025', 'timestamp': '1739145600', 'values': [{'query': 'coffee', 'value': '82', 'extracted_value': 82}]}, {'date': 'Feb 11, 2025', 'timestamp': '1739232000', 'values': [{'query': 'coffee', 'value': '75', 'extracted_value': 75}]}, {'date': 'Feb 12, 2025', 'timestamp': '1739318400', 'values': [{'query': 'coffee', 'value': '79', 'extracted_value': 79}]}, {'date': 'Feb 13, 2025', 'timestamp': '1739404800', 'values': [{'query': 'coffee', 'value': '75', 'extracted_value': 75}]}, {'date': 'Feb 14, 2025', 'timestamp': '1739491200', 'values': [{'query': 'coffee', 'value': '77', 'extracted_value': 77}]}, {'date': 'Feb 15, 2025', 'timestamp': '1739577600', 'values': [{'query': 'coffee', 'value': '94', 'extracted_value': 94}]}, {'date': 'Feb 16, 2025', 'timestamp': '1739664000', 'values': [{'query': 'coffee', 'value': '91', 'extracted_value': 91}]}, {'date': 'Feb 17, 2025', 'timestamp': '1739750400', 'values': [{'query': 'coffee', 'value': '77', 'extracted_value': 77}]}, {'date': 'Feb 18, 2025', 'timestamp': '1739836800', 'values': [{'query': 'coffee', 'value': '80', 'extracted_value': 80}]}, {'date': 'Feb 19, 2025', 'timestamp': '1739923200', 'values': [{'query': 'coffee', 'value': '78', 'extracted_value': 78}]}, {'date': 'Feb 20, 2025', 'timestamp': '1740009600', 'values': [{'query': 'coffee', 'value': '78', 'extracted_value': 78}]}, {'date': 'Feb 21, 2025', 'timestamp': '1740096000', 'values': [{'query': 'coffee', 'value': '81', 'extracted_value': 81}]}, {'date': 'Feb 22, 2025', 'timestamp': '1740182400', 'values': [{'query': 'coffee', 'value': '96', 'extracted_value': 96}]}, {'date': 'Feb 23, 2025', 'timestamp': '1740268800', 'values': [{'query': 'coffee', 'value': '93', 'extracted_value': 93}]}, {'date': 'Feb 24, 2025', 'timestamp': '1740355200', 'values': [{'query': 'coffee', 'value': '79', 'extracted_value': 79}]}, {'date': 'Feb 25, 2025', 'timestamp': '1740441600', 'values': [{'query': 'coffee', 'value': '80', 'extracted_value': 80}]}, {'date': 'Feb 26, 2025', 'timestamp': '1740528000', 'values': [{'query': 'coffee', 'value': '81', 'extracted_value': 81}]}, {'date': 'Feb 27, 2025', 'timestamp': '1740614400', 'values': [{'query': 'coffee', 'value': '81', 'extracted_value': 81}]}, {'date': 'Feb 28, 2025', 'timestamp': '1740700800', 'values': [{'query': 'coffee', 'value': '81', 'extracted_value': 81}]}, {'date': 'Mar 1, 2025', 'timestamp': '1740787200', 'values': [{'query': 'coffee', 'value': '91', 'extracted_value': 91}]}, {'date': 'Mar 2, 2025', 'timestamp': '1740873600', 'values': [{'query': 'coffee', 'value': '95', 'extracted_value': 95}]}, {'date': 'Mar 3, 2025', 'timestamp': '1740960000', 'values': [{'query': 'coffee', 'value': '74', 'extracted_value': 74}]}, {'date': 'Mar 4, 2025', 'timestamp': '1741046400', 'values': [{'query': 'coffee', 'value': '76', 'extracted_value': 76}]}, {'date': 'Mar 5, 2025', 'timestamp': '1741132800', 'values': [{'query': 'coffee', 'value': '75', 'extracted_value': 75}]}, {'date': 'Mar 6, 2025', 'timestamp': '1741219200', 'values': [{'query': 'coffee', 'value': '75', 'extracted_value': 75}]}, {'date': 'Mar 7, 2025', 'timestamp': '1741305600', 'values': [{'query': 'coffee', 'value': '81', 'extracted_value': 81}]}, {'date': 'Mar 8, 2025', 'timestamp': '1741392000', 'values': [{'query': 'coffee', 'value': '97', 'extracted_value': 97}]}, {'date': 'Mar 9, 2025', 'timestamp': '1741478400', 'values': [{'query': 'coffee', 'value': '91', 'extracted_value': 91}]}, {'date': 'Mar 10, 2025', 'timestamp': '1741564800', 'values': [{'query': 'coffee', 'value': '82', 'extracted_value': 82}]}, {'date': 'Mar 11, 2025', 'timestamp': '1741651200', 'values': [{'query': 'coffee', 'value': '74', 'extracted_value': 74}]}, {'date': 'Mar 12, 2025', 'timestamp': '1741737600', 'values': [{'query': 'coffee', 'value': '78', 'extracted_value': 78}]}, {'date': 'Mar 13, 2025', 'timestamp': '1741824000', 'values': [{'query': 'coffee', 'value': '80', 'extracted_value': 80}]}, {'date': 'Mar 14, 2025', 'timestamp': '1741910400', 'values': [{'query': 'coffee', 'value': '80', 'extracted_value': 80}]}, {'date': 'Mar 15, 2025', 'timestamp': '1741996800', 'values': [{'query': 'coffee', 'value': '90', 'extracted_value': 90}]}, {'date': 'Mar 16, 2025', 'timestamp': '1742083200', 'values': [{'query': 'coffee', 'value': '98', 'extracted_value': 98}]}, {'date': 'Mar 17, 2025', 'timestamp': '1742169600', 'values': [{'query': 'coffee', 'value': '69', 'extracted_value': 69}]}, {'date': 'Mar 18, 2025', 'timestamp': '1742256000', 'values': [{'query': 'coffee', 'value': '80', 'extracted_value': 80}]}, {'date': 'Mar 19, 2025', 'timestamp': '1742342400', 'values': [{'query': 'coffee', 'value': '76', 'extracted_value': 76}]}, {'date': 'Mar 20, 2025', 'timestamp': '1742428800', 'values': [{'query': 'coffee', 'value': '77', 'extracted_value': 77}]}, {'date': 'Mar 21, 2025', 'timestamp': '1742515200', 'values': [{'query': 'coffee', 'value': '79', 'extracted_value': 79}]}, {'date': 'Mar 22, 2025', 'timestamp': '1742601600', 'values': [{'query': 'coffee', 'value': '99', 'extracted_value': 99}]}, {'date': 'Mar 23, 2025', 'timestamp': '1742688000', 'values': [{'query': 'coffee', 'value': '91', 'extracted_value': 91}]}, {'date': 'Mar 24, 2025', 'timestamp': '1742774400', 'values': [{'query': 'coffee', 'value': '76', 'extracted_value': 76}]}, {'date': 'Mar 25, 2025', 'timestamp': '1742860800', 'values': [{'query': 'coffee', 'value': '76', 'extracted_value': 76}]}, {'date': 'Mar 26, 2025', 'timestamp': '1742947200', 'values': [{'query': 'coffee', 'value': '77', 'extracted_value': 77}]}, {'date': 'Mar 27, 2025', 'timestamp': '1743033600', 'values': [{'query': 'coffee', 'value': '77', 'extracted_value': 77}]}, {'date': 'Mar 28, 2025', 'timestamp': '1743120000', 'values': [{'query': 'coffee', 'value': '80', 'extracted_value': 80}]}, {'date': 'Mar 29, 2025', 'timestamp': '1743206400', 'values': [{'query': 'coffee', 'value': '92', 'extracted_value': 92}]}, {'date': 'Mar 30, 2025', 'timestamp': '1743292800', 'values': [{'query': 'coffee', 'value': '96', 'extracted_value': 96}]}, {'date': 'Mar 31, 2025', 'timestamp': '1743379200', 'values': [{'query': 'coffee', 'value': '79', 'extracted_value': 79}]}, {'date': 'Apr 1, 2025', 'timestamp': '1743465600', 'values': [{'query': 'coffee', 'value': '78', 'extracted_value': 78}]}, {'date': 'Apr 2, 2025', 'timestamp': '1743552000', 'partial_data': True, 'values': [{'query': 'coffee', 'value': '78', 'extracted_value': 78}]}]\n"
     ]
    }
   ],
   "source": [
    "data = data['timeline_data']\n",
    "print(data)"
   ]
  },
  {
   "cell_type": "code",
   "execution_count": 33,
   "metadata": {},
   "outputs": [
    {
     "name": "stdout",
     "output_type": "stream",
     "text": [
      "[81, 84, 94, 90, 79, 82, 80, 76, 79, 92, 93, 79, 76, 79, 79, 86, 100, 94, 80, 74, 80, 79, 80, 93, 96, 83, 83, 77, 77, 78, 92, 96, 76, 78, 77, 77, 77, 92, 90, 82, 75, 79, 75, 77, 94, 91, 77, 80, 78, 78, 81, 96, 93, 79, 80, 81, 81, 81, 91, 95, 74, 76, 75, 75, 81, 97, 91, 82, 74, 78, 80, 80, 90, 98, 69, 80, 76, 77, 79, 99, 91, 76, 76, 77, 77, 80, 92, 96, 79, 78, 78]\n"
     ]
    }
   ],
   "source": [
    "values_list = []\n",
    "for item in data:\n",
    "    for values in item['values']:\n",
    "        values_list.append(values['extracted_value'])\n",
    "\n",
    "print(values_list)"
   ]
  },
  {
   "cell_type": "code",
   "execution_count": 34,
   "metadata": {},
   "outputs": [
    {
     "name": "stdout",
     "output_type": "stream",
     "text": [
      "    coffee\n",
      "0       81\n",
      "1       84\n",
      "2       94\n",
      "3       90\n",
      "4       79\n",
      "..     ...\n",
      "86      92\n",
      "87      96\n",
      "88      79\n",
      "89      78\n",
      "90      78\n",
      "\n",
      "[91 rows x 1 columns]\n"
     ]
    }
   ],
   "source": [
    "import pandas as pd\n",
    "\n",
    "df = pd.DataFrame(values_list, columns=['coffee'])\n",
    "print(df)"
   ]
  },
  {
   "cell_type": "code",
   "execution_count": null,
   "metadata": {},
   "outputs": [],
   "source": []
  }
 ],
 "metadata": {
  "kernelspec": {
   "display_name": ".venv",
   "language": "python",
   "name": "python3"
  },
  "language_info": {
   "codemirror_mode": {
    "name": "ipython",
    "version": 3
   },
   "file_extension": ".py",
   "mimetype": "text/x-python",
   "name": "python",
   "nbconvert_exporter": "python",
   "pygments_lexer": "ipython3",
   "version": "3.12.1"
  }
 },
 "nbformat": 4,
 "nbformat_minor": 2
}
